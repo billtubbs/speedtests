{
 "cells": [
  {
   "cell_type": "markdown",
   "metadata": {},
   "source": [
    "# Simple Speed Test for Python Data Analysis"
   ]
  },
  {
   "cell_type": "code",
   "execution_count": 4,
   "metadata": {},
   "outputs": [],
   "source": [
    "computer_name = '2011 Mac Mini i7'"
   ]
  },
  {
   "cell_type": "code",
   "execution_count": 5,
   "metadata": {},
   "outputs": [],
   "source": [
    "import os\n",
    "import time\n",
    "import numpy as np\n",
    "import pandas as pd\n",
    "import matplotlib\n",
    "import matplotlib.pyplot as plt\n",
    "import platform\n",
    "from PIL import Image\n",
    "\n",
    "%matplotlib inline"
   ]
  },
  {
   "cell_type": "code",
   "execution_count": 6,
   "metadata": {},
   "outputs": [],
   "source": [
    "# Results will be saved in this list\n",
    "\n",
    "class SpeedTestResults:\n",
    "\n",
    "    speed_test_results = []\n",
    "\n",
    "    def __init__(self, name):\n",
    "        \n",
    "        self.name = name\n",
    "        self.results = []\n",
    "        self.system_info = self.get_system_info()\n",
    "        self.test_name = None\n",
    "        self.start_time = None\n",
    "        self.finish_time = None\n",
    "        self.test_running = False\n",
    "\n",
    "    def get_system_info(self):\n",
    "\n",
    "        system_info = {\n",
    "            'Timestamp': str(pd.datetime.now()),\n",
    "            'Computer name': platform.node(),\n",
    "            'Python version': platform.python_version(),\n",
    "            'Numpy version': np.__version__,\n",
    "            'Pandas version': pd.__version__,\n",
    "            'Matplotlib version': matplotlib.__version__\n",
    "        }\n",
    "        \n",
    "        return system_info\n",
    "\n",
    "    def start_test(self, name, show=True):\n",
    "        \n",
    "        assert self.test_running is False, \"A test is already running.\"\n",
    "        self.test_name = name\n",
    "        self.start_time = time.time()\n",
    "        self.test_running = True\n",
    "        if show:\n",
    "            print(f\"\\nTest {len(self.results) + 1} started: {self.test_name.__repr__()}\")\n",
    "\n",
    "    def finish_test(self, show=True):\n",
    "        \n",
    "        assert self.test_running is True, \"No test is running.\"\n",
    "        self.finish_time = time.time()\n",
    "        self.test_running = False\n",
    "        self.save_result(self.start_time, self.finish_time, self.test_name, show=show)\n",
    "        if show:\n",
    "            print(f\"Test {len(self.results)} complete.\")\n",
    "\n",
    "    def save_result(self, start_time, finish_time, label, show=True):\n",
    "\n",
    "        duration = finish_time - start_time\n",
    "        info = {\n",
    "            'Test Name': label,\n",
    "            'Start Time (s)': start_time,\n",
    "            'End Time (s)': finish_time,\n",
    "            'Duration (s)': duration\n",
    "        }\n",
    "\n",
    "        self.results.append(info)\n",
    "        if show:\n",
    "            print(f\"Test result saved: {duration:.5f} seconds.\")\n",
    "\n",
    "    def get_results(self):\n",
    "        \"\"\"Return results as a dataframe.\"\"\"\n",
    "        return pd.DataFrame.from_records(self.results)\n",
    "\n",
    "    def save_results(self, filepath):\n",
    "        \"\"\"Save all results as a csv text file.\"\"\"\n",
    "        df = pd.DataFrame.from_records(self.results)\n",
    "        df.to_csv(filepath)\n",
    "        \n",
    "    def clear_results(self):\n",
    "        \n",
    "        self.results = []\n",
    "        self.test_name = None\n",
    "        self.start_time = None\n",
    "        self.finish_time = None\n",
    "        self.test_running = False"
   ]
  },
  {
   "cell_type": "code",
   "execution_count": 7,
   "metadata": {},
   "outputs": [
    {
     "data": {
      "text/plain": [
       "{'Timestamp': '2019-07-29 00:07:52.133210',\n",
       " 'Computer name': 'Mac-mini.local',\n",
       " 'Python version': '3.7.3',\n",
       " 'Numpy version': '1.16.3',\n",
       " 'Pandas version': '0.24.2',\n",
       " 'Matplotlib version': '3.0.3'}"
      ]
     },
     "execution_count": 7,
     "metadata": {},
     "output_type": "execute_result"
    }
   ],
   "source": [
    "speed_test_results = SpeedTestResults(computer_name)\n",
    "speed_test_results.get_system_info()"
   ]
  },
  {
   "cell_type": "markdown",
   "metadata": {},
   "source": [
    "### Test 1. CSV File Reading/Writing"
   ]
  },
  {
   "cell_type": "code",
   "execution_count": 8,
   "metadata": {},
   "outputs": [
    {
     "name": "stdout",
     "output_type": "stream",
     "text": [
      "Data file 'data.csv' already exists.\n"
     ]
    }
   ],
   "source": [
    "# Create large data file\n",
    "\n",
    "data_dir = 'data'\n",
    "filename = 'data.csv'\n",
    "\n",
    "if not os.path.exists(data_dir):\n",
    "    os.mkdir(data_dir)\n",
    "\n",
    "filepath = os.path.join(data_dir, filename)\n",
    "if not os.path.exists(filepath):\n",
    "    n_rows, n_cols = (10000, 100)\n",
    "    data = np.random.randn(n_rows*n_cols).reshape((n_rows, n_cols))\n",
    "    df = pd.DataFrame(data, columns=[f\"{i:05d}\" for i in range(n_cols)])\n",
    "    df.to_csv(filepath)\n",
    "    print(f\"Data file '{filename}' created.\")\n",
    "else:\n",
    "    print(f\"Data file '{filename}' already exists.\")"
   ]
  },
  {
   "cell_type": "code",
   "execution_count": 9,
   "metadata": {},
   "outputs": [],
   "source": [
    "def test01(data_dir='data', filename1='data.csv', filename2='data2.csv',\n",
    "           test_name='CSV file read-write'):\n",
    "\n",
    "    speed_test_results.start_test(test_name)\n",
    "\n",
    "    read_filepath = os.path.join(data_dir, filename1)\n",
    "    write_filepath = os.path.join(data_dir, filename2)\n",
    "\n",
    "    df = pd.read_csv(read_filepath)\n",
    "    print(f\"Data loaded from file '{filename1}'\")\n",
    "\n",
    "    df.to_csv(write_filepath)\n",
    "    print(f\"Data saved to file '{filename2}'\")\n",
    "\n",
    "    speed_test_results.finish_test()"
   ]
  },
  {
   "cell_type": "markdown",
   "metadata": {},
   "source": [
    "### Test 2. Image File Read - Manipulate - Write"
   ]
  },
  {
   "cell_type": "code",
   "execution_count": 10,
   "metadata": {},
   "outputs": [
    {
     "name": "stdout",
     "output_type": "stream",
     "text": [
      "Image from file 'data.csv' size (1920, 1080) pixels found.\n"
     ]
    }
   ],
   "source": [
    "# Use this image file\n",
    "\n",
    "image_dir = 'images'\n",
    "read_filename = 'screenshot.png'\n",
    "write_filename = 'screenshot2.png'\n",
    "\n",
    "read_filepath = os.path.join(image_dir, read_filename)\n",
    "write_filepath = os.path.join(image_dir, write_filename)\n",
    "\n",
    "if not os.path.exists(image_dir):\n",
    "    os.mkdir(image_dir)\n",
    "\n",
    "im = Image.open(read_filepath)\n",
    "print(f\"Image from file '{filename}' size {im.size} pixels found.\")"
   ]
  },
  {
   "cell_type": "code",
   "execution_count": 11,
   "metadata": {},
   "outputs": [],
   "source": [
    "def test02(image_dir='images', filename1='screenshot.png', filename2='screenshot2.png',\n",
    "           test_name='Image file read-rotate-write'):\n",
    "\n",
    "    speed_test_results.start_test(test_name)\n",
    "\n",
    "    im = Image.open(read_filepath)\n",
    "    print(f\"Image loaded from file '{read_filename}'\")\n",
    "    im2 = im.rotate(45)\n",
    "    print(f\"Image rotated\")\n",
    "    im2.save(write_filepath)\n",
    "    print(f\"Image saved to file '{write_filepath}'\")\n",
    "\n",
    "    speed_test_results.finish_test()"
   ]
  },
  {
   "cell_type": "markdown",
   "metadata": {},
   "source": [
    "### Test 3. N-Dimensional Array Calculation - Powers"
   ]
  },
  {
   "cell_type": "code",
   "execution_count": 12,
   "metadata": {},
   "outputs": [],
   "source": [
    "\n",
    "def test03(array_shape=(1000, 1000), n=50, test_name='ND-Array power calculation'):\n",
    "    \n",
    "    speed_test_results.start_test(test_name)\n",
    "    \n",
    "    print(f\"Doing {n} Numpy array calculations {array_shape}...\")\n",
    "    x = np.random.random(array_shape)\n",
    "    for i in range(n):\n",
    "        y = x**3 - 0.5*x**2 + x\n",
    "    \n",
    "    speed_test_results.finish_test()"
   ]
  },
  {
   "cell_type": "markdown",
   "metadata": {},
   "source": [
    "### Calculate Fibonacci number in Python"
   ]
  },
  {
   "cell_type": "code",
   "execution_count": 13,
   "metadata": {},
   "outputs": [
    {
     "data": {
      "text/plain": [
       "86168291600238450732788312165664788095941068326060883324529903470149056115823592713458328176574447204501"
      ]
     },
     "execution_count": 13,
     "metadata": {},
     "output_type": "execute_result"
    }
   ],
   "source": [
    "from functools import reduce\n",
    "import operator\n",
    "\n",
    "def fib_sequence_generator(n):\n",
    "    a, b = 0, 1\n",
    "    for i in range(n):\n",
    "        yield a\n",
    "        a, b = b, a + b\n",
    "\n",
    "def fib_number(n):\n",
    "    a, b = 0, 1\n",
    "    for i in range(n-1):\n",
    "        a, b = b, a + b\n",
    "    return a\n",
    "\n",
    "n = 500\n",
    "fib_number(n)\n",
    "# This doesn't take long\n",
    "#%timeit fib_number(n)\n",
    "# 45.4 µs ± 1.56 µs per loop (mean ± std. dev. of 7 runs, 10000 loops each)"
   ]
  },
  {
   "cell_type": "markdown",
   "metadata": {},
   "source": [
    "### Calculate Pi in Python"
   ]
  },
  {
   "cell_type": "code",
   "execution_count": 14,
   "metadata": {},
   "outputs": [
    {
     "data": {
      "text/plain": [
       "Decimal('3.141592653589793238462643383279502884197169399375105820974944592307816406286208998628034825342117070')"
      ]
     },
     "execution_count": 14,
     "metadata": {},
     "output_type": "execute_result"
    }
   ],
   "source": [
    "from decimal import Decimal, getcontext\n",
    "\n",
    "n = 100\n",
    "getcontext().prec = n\n",
    "\n",
    "def calculate_pi(n):\n",
    "    return sum(1/Decimal(16)**k * \n",
    "          (Decimal(4)/(8*k+1) - \n",
    "           Decimal(2)/(8*k+4) - \n",
    "           Decimal(1)/(8*k+5) -\n",
    "           Decimal(1)/(8*k+6)) for k in range(n))\n",
    "\n",
    "calculate_pi(n)\n",
    "# This doesn't take long\n",
    "#%timeit calculate_pi(n)\n",
    "# 620 µs ± 23.5 µs per loop (mean ± std. dev. of 7 runs, 1000 loops each)"
   ]
  },
  {
   "cell_type": "markdown",
   "metadata": {},
   "source": [
    "### Test 4. Calculate Mandelbrot set in Pure Python"
   ]
  },
  {
   "cell_type": "code",
   "execution_count": 15,
   "metadata": {},
   "outputs": [
    {
     "data": {
      "image/png": "[encoded data removed]",
      "text/plain": [
       "<Figure size 432x288 with 1 Axes>"
      ]
     },
     "metadata": {
      "needs_background": "light"
     },
     "output_type": "display_data"
    }
   ],
   "source": [
    "# Calcualte mandelbrot set (naive implementation)\n",
    "\n",
    "def mandelbrot(z, maxiter):\n",
    "    c = z\n",
    "    for n in range(maxiter):\n",
    "        if abs(z) > 2:\n",
    "            return n\n",
    "        z = z*z + c\n",
    "    return maxiter\n",
    "\n",
    "def mandelbrot_set(xmin, xmax, ymin, ymax, width, height, maxiter):\n",
    "    r1 = np.linspace(xmin, xmax, width)\n",
    "    r2 = np.linspace(ymin, ymax, height)\n",
    "    data = np.fromiter((mandelbrot(complex(r, i), maxiter) for r in r1 for i in r2), \n",
    "                       dtype=int)\n",
    "    return (r1, r2, data)\n",
    "\n",
    "r1, r2, data = mandelbrot_set(-2.0, 0.5, -1.25, 1.25, 500, 500, 100)\n",
    "\n",
    "plt.imshow(data.reshape(r1.shape[0], r2.shape[0]))\n",
    "plt.show()"
   ]
  },
  {
   "cell_type": "code",
   "execution_count": 16,
   "metadata": {},
   "outputs": [],
   "source": [
    "def test04(width=500, height=500, maxiter=100, test_name='Mandelbrot set in Python'):\n",
    "    \n",
    "    speed_test_results.start_test(test_name)\n",
    "\n",
    "    im = Image.open(read_filepath)\n",
    "    print(f\"Calculating Mandelbrot set ({width}, {height})...\")\n",
    "    r1, r2, data = mandelbrot_set(-2.0, 0.5, -1.25, 1.25, width, height, maxiter)\n",
    "\n",
    "    speed_test_results.finish_test()\n"
   ]
  },
  {
   "cell_type": "markdown",
   "metadata": {},
   "source": [
    "## Run tests"
   ]
  },
  {
   "cell_type": "code",
   "execution_count": 17,
   "metadata": {},
   "outputs": [
    {
     "name": "stdout",
     "output_type": "stream",
     "text": [
      "\n",
      "Test 1 started: 'CSV file read-write'\n",
      "Data loaded from file 'data.csv'\n",
      "Data saved to file 'data2.csv'\n",
      "Test result saved: 2.37034 seconds.\n",
      "Test 1 complete.\n",
      "\n",
      "Test 2 started: 'Image file read-rotate-write'\n",
      "Image loaded from file 'screenshot.png'\n",
      "Image rotated\n",
      "Image saved to file 'images/screenshot2.png'\n",
      "Test result saved: 1.63408 seconds.\n",
      "Test 2 complete.\n",
      "\n",
      "Test 3 started: 'ND-Array power calculation'\n",
      "Doing 50 Numpy array calculations (1000, 1000)...\n",
      "Test result saved: 2.24822 seconds.\n",
      "Test 3 complete.\n",
      "\n",
      "Test 4 started: 'Mandelbrot set in Python'\n",
      "Calculating Mandelbrot set (500, 500)...\n",
      "Test result saved: 1.96098 seconds.\n",
      "Test 4 complete.\n",
      "\n",
      "Test 5 started: 'CSV file read-write'\n",
      "Data loaded from file 'data.csv'\n",
      "Data saved to file 'data2.csv'\n",
      "Test result saved: 2.41229 seconds.\n",
      "Test 5 complete.\n",
      "\n",
      "Test 6 started: 'Image file read-rotate-write'\n",
      "Image loaded from file 'screenshot.png'\n",
      "Image rotated\n",
      "Image saved to file 'images/screenshot2.png'\n",
      "Test result saved: 1.60231 seconds.\n",
      "Test 6 complete.\n",
      "\n",
      "Test 7 started: 'ND-Array power calculation'\n",
      "Doing 50 Numpy array calculations (1000, 1000)...\n",
      "Test result saved: 2.24167 seconds.\n",
      "Test 7 complete.\n",
      "\n",
      "Test 8 started: 'Mandelbrot set in Python'\n",
      "Calculating Mandelbrot set (500, 500)...\n",
      "Test result saved: 1.94398 seconds.\n",
      "Test 8 complete.\n",
      "\n",
      "Test 9 started: 'CSV file read-write'\n",
      "Data loaded from file 'data.csv'\n",
      "Data saved to file 'data2.csv'\n",
      "Test result saved: 2.34567 seconds.\n",
      "Test 9 complete.\n",
      "\n",
      "Test 10 started: 'Image file read-rotate-write'\n",
      "Image loaded from file 'screenshot.png'\n",
      "Image rotated\n",
      "Image saved to file 'images/screenshot2.png'\n",
      "Test result saved: 1.56958 seconds.\n",
      "Test 10 complete.\n",
      "\n",
      "Test 11 started: 'ND-Array power calculation'\n",
      "Doing 50 Numpy array calculations (1000, 1000)...\n",
      "Test result saved: 2.26515 seconds.\n",
      "Test 11 complete.\n",
      "\n",
      "Test 12 started: 'Mandelbrot set in Python'\n",
      "Calculating Mandelbrot set (500, 500)...\n",
      "Test result saved: 1.91165 seconds.\n",
      "Test 12 complete.\n"
     ]
    }
   ],
   "source": [
    "tests = [\n",
    "    test01,\n",
    "    test02,\n",
    "    test03,\n",
    "    test04\n",
    "]\n",
    "\n",
    "for i in range(3):\n",
    "    for test in tests:\n",
    "        test()"
   ]
  },
  {
   "cell_type": "markdown",
   "metadata": {},
   "source": [
    "### Results"
   ]
  },
  {
   "cell_type": "code",
   "execution_count": 18,
   "metadata": {},
   "outputs": [
    {
     "data": {
      "text/html": [
       "<div>\n",
       "<style scoped>\n",
       "    .dataframe tbody tr th:only-of-type {\n",
       "        vertical-align: middle;\n",
       "    }\n",
       "\n",
       "    .dataframe tbody tr th {\n",
       "        vertical-align: top;\n",
       "    }\n",
       "\n",
       "    .dataframe thead th {\n",
       "        text-align: right;\n",
       "    }\n",
       "</style>\n",
       "<table border=\"1\" class=\"dataframe\">\n",
       "  <thead>\n",
       "    <tr style=\"text-align: right;\">\n",
       "      <th></th>\n",
       "      <th>Duration (s)</th>\n",
       "      <th>End Time (s)</th>\n",
       "      <th>Start Time (s)</th>\n",
       "      <th>Test Name</th>\n",
       "    </tr>\n",
       "  </thead>\n",
       "  <tbody>\n",
       "    <tr>\n",
       "      <th>0</th>\n",
       "      <td>2.370341</td>\n",
       "      <td>1.564384e+09</td>\n",
       "      <td>1.564384e+09</td>\n",
       "      <td>CSV file read-write</td>\n",
       "    </tr>\n",
       "    <tr>\n",
       "      <th>1</th>\n",
       "      <td>1.634077</td>\n",
       "      <td>1.564384e+09</td>\n",
       "      <td>1.564384e+09</td>\n",
       "      <td>Image file read-rotate-write</td>\n",
       "    </tr>\n",
       "    <tr>\n",
       "      <th>2</th>\n",
       "      <td>2.248223</td>\n",
       "      <td>1.564384e+09</td>\n",
       "      <td>1.564384e+09</td>\n",
       "      <td>ND-Array power calculation</td>\n",
       "    </tr>\n",
       "    <tr>\n",
       "      <th>3</th>\n",
       "      <td>1.960981</td>\n",
       "      <td>1.564384e+09</td>\n",
       "      <td>1.564384e+09</td>\n",
       "      <td>Mandelbrot set in Python</td>\n",
       "    </tr>\n",
       "    <tr>\n",
       "      <th>4</th>\n",
       "      <td>2.412294</td>\n",
       "      <td>1.564384e+09</td>\n",
       "      <td>1.564384e+09</td>\n",
       "      <td>CSV file read-write</td>\n",
       "    </tr>\n",
       "    <tr>\n",
       "      <th>5</th>\n",
       "      <td>1.602312</td>\n",
       "      <td>1.564384e+09</td>\n",
       "      <td>1.564384e+09</td>\n",
       "      <td>Image file read-rotate-write</td>\n",
       "    </tr>\n",
       "    <tr>\n",
       "      <th>6</th>\n",
       "      <td>2.241668</td>\n",
       "      <td>1.564384e+09</td>\n",
       "      <td>1.564384e+09</td>\n",
       "      <td>ND-Array power calculation</td>\n",
       "    </tr>\n",
       "    <tr>\n",
       "      <th>7</th>\n",
       "      <td>1.943979</td>\n",
       "      <td>1.564384e+09</td>\n",
       "      <td>1.564384e+09</td>\n",
       "      <td>Mandelbrot set in Python</td>\n",
       "    </tr>\n",
       "    <tr>\n",
       "      <th>8</th>\n",
       "      <td>2.345672</td>\n",
       "      <td>1.564384e+09</td>\n",
       "      <td>1.564384e+09</td>\n",
       "      <td>CSV file read-write</td>\n",
       "    </tr>\n",
       "    <tr>\n",
       "      <th>9</th>\n",
       "      <td>1.569584</td>\n",
       "      <td>1.564384e+09</td>\n",
       "      <td>1.564384e+09</td>\n",
       "      <td>Image file read-rotate-write</td>\n",
       "    </tr>\n",
       "    <tr>\n",
       "      <th>10</th>\n",
       "      <td>2.265155</td>\n",
       "      <td>1.564384e+09</td>\n",
       "      <td>1.564384e+09</td>\n",
       "      <td>ND-Array power calculation</td>\n",
       "    </tr>\n",
       "    <tr>\n",
       "      <th>11</th>\n",
       "      <td>1.911653</td>\n",
       "      <td>1.564384e+09</td>\n",
       "      <td>1.564384e+09</td>\n",
       "      <td>Mandelbrot set in Python</td>\n",
       "    </tr>\n",
       "  </tbody>\n",
       "</table>\n",
       "</div>"
      ],
      "text/plain": [
       "    Duration (s)  End Time (s)  Start Time (s)                     Test Name\n",
       "0       2.370341  1.564384e+09    1.564384e+09           CSV file read-write\n",
       "1       1.634077  1.564384e+09    1.564384e+09  Image file read-rotate-write\n",
       "2       2.248223  1.564384e+09    1.564384e+09    ND-Array power calculation\n",
       "3       1.960981  1.564384e+09    1.564384e+09      Mandelbrot set in Python\n",
       "4       2.412294  1.564384e+09    1.564384e+09           CSV file read-write\n",
       "5       1.602312  1.564384e+09    1.564384e+09  Image file read-rotate-write\n",
       "6       2.241668  1.564384e+09    1.564384e+09    ND-Array power calculation\n",
       "7       1.943979  1.564384e+09    1.564384e+09      Mandelbrot set in Python\n",
       "8       2.345672  1.564384e+09    1.564384e+09           CSV file read-write\n",
       "9       1.569584  1.564384e+09    1.564384e+09  Image file read-rotate-write\n",
       "10      2.265155  1.564384e+09    1.564384e+09    ND-Array power calculation\n",
       "11      1.911653  1.564384e+09    1.564384e+09      Mandelbrot set in Python"
      ]
     },
     "execution_count": 18,
     "metadata": {},
     "output_type": "execute_result"
    }
   ],
   "source": [
    "results = speed_test_results.get_results()\n",
    "results"
   ]
  },
  {
   "cell_type": "code",
   "execution_count": 19,
   "metadata": {},
   "outputs": [
    {
     "data": {
      "text/html": [
       "<div>\n",
       "<style scoped>\n",
       "    .dataframe tbody tr th:only-of-type {\n",
       "        vertical-align: middle;\n",
       "    }\n",
       "\n",
       "    .dataframe tbody tr th {\n",
       "        vertical-align: top;\n",
       "    }\n",
       "\n",
       "    .dataframe thead th {\n",
       "        text-align: right;\n",
       "    }\n",
       "</style>\n",
       "<table border=\"1\" class=\"dataframe\">\n",
       "  <thead>\n",
       "    <tr style=\"text-align: right;\">\n",
       "      <th></th>\n",
       "      <th>Average Duration (s)</th>\n",
       "    </tr>\n",
       "    <tr>\n",
       "      <th>Test Name</th>\n",
       "      <th></th>\n",
       "    </tr>\n",
       "  </thead>\n",
       "  <tbody>\n",
       "    <tr>\n",
       "      <th>CSV file read-write</th>\n",
       "      <td>2.376102</td>\n",
       "    </tr>\n",
       "    <tr>\n",
       "      <th>Image file read-rotate-write</th>\n",
       "      <td>1.601991</td>\n",
       "    </tr>\n",
       "    <tr>\n",
       "      <th>Mandelbrot set in Python</th>\n",
       "      <td>1.938871</td>\n",
       "    </tr>\n",
       "    <tr>\n",
       "      <th>ND-Array power calculation</th>\n",
       "      <td>2.251682</td>\n",
       "    </tr>\n",
       "  </tbody>\n",
       "</table>\n",
       "</div>"
      ],
      "text/plain": [
       "                              Average Duration (s)\n",
       "Test Name                                         \n",
       "CSV file read-write                       2.376102\n",
       "Image file read-rotate-write              1.601991\n",
       "Mandelbrot set in Python                  1.938871\n",
       "ND-Array power calculation                2.251682"
      ]
     },
     "execution_count": 19,
     "metadata": {},
     "output_type": "execute_result"
    }
   ],
   "source": [
    "average_speeds = results[['Test Name', 'Duration (s)']].groupby('Test Name').mean()\n",
    "average_speeds = average_speeds.rename(columns={'Duration (s)': 'Average Duration (s)'})\n",
    "average_speeds"
   ]
  },
  {
   "cell_type": "code",
   "execution_count": 20,
   "metadata": {},
   "outputs": [
    {
     "data": {
      "text/plain": [
       "Average Duration (s)    8.168646\n",
       "dtype: float64"
      ]
     },
     "execution_count": 20,
     "metadata": {},
     "output_type": "execute_result"
    }
   ],
   "source": [
    "average_speeds.sum()"
   ]
  },
  {
   "cell_type": "code",
   "execution_count": 22,
   "metadata": {},
   "outputs": [],
   "source": [
    "# Save results to csv file\n",
    "\n",
    "results_dir = 'results'\n",
    "filename1 = f'{computer_name}.csv'\n",
    "filename2 = f'{computer_name}_averages.csv'\n",
    "\n",
    "if not os.path.exists(results_dir):\n",
    "    os.mkdir(results_dir)\n",
    "\n",
    "filepath = os.path.join(results_dir, filename1)\n",
    "speed_test_results.save_results(filepath)\n",
    "\n",
    "filepath = os.path.join(results_dir, filename2)\n",
    "average_speeds.to_csv(filepath)"
   ]
  },
  {
   "cell_type": "code",
   "execution_count": null,
   "metadata": {},
   "outputs": [],
   "source": []
  },
  {
   "cell_type": "code",
   "execution_count": null,
   "metadata": {},
   "outputs": [],
   "source": []
  },
  {
   "cell_type": "code",
   "execution_count": null,
   "metadata": {},
   "outputs": [],
   "source": []
  }
 ],
 "metadata": {
  "kernelspec": {
   "display_name": "Python (tf)",
   "language": "python",
   "name": "tf"
  },
  "language_info": {
   "codemirror_mode": {
    "name": "ipython",
    "version": 3
   },
   "file_extension": ".py",
   "mimetype": "text/x-python",
   "name": "python",
   "nbconvert_exporter": "python",
   "pygments_lexer": "ipython3",
   "version": "3.7.3"
  }
 },
 "nbformat": 4,
 "nbformat_minor": 2
}
